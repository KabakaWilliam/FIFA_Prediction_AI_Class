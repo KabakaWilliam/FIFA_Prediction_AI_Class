{
 "cells": [
  {
   "cell_type": "code",
   "execution_count": 1,
   "metadata": {},
   "outputs": [],
   "source": [
    "import pandas as pd\n",
    "from sklearn import preprocessing\n",
    "from sklearn.pipeline import make_pipeline\n",
    "from sklearn.model_selection import train_test_split\n",
    "from sklearn.linear_model import LinearRegression\n",
    "from sklearn.metrics import mean_squared_error, mean_absolute_error\n",
    "import seaborn as sns\n",
    "from matplotlib import pyplot"
   ]
  },
  {
   "cell_type": "markdown",
   "metadata": {},
   "source": [
    "# Initial Exploration"
   ]
  },
  {
   "cell_type": "code",
   "execution_count": 2,
   "metadata": {},
   "outputs": [],
   "source": [
    "# Load data here\n",
    "fifaData = pd.read_csv(\"fifa23.csv\")"
   ]
  },
  {
   "cell_type": "code",
   "execution_count": 3,
   "metadata": {},
   "outputs": [
    {
     "data": {
      "text/plain": [
       "Index(['Known As', 'Full Name', 'Overall', 'Potential', 'Value(in Euro)',\n",
       "       'Positions Played', 'Best Position', 'Nationality', 'Image Link', 'Age',\n",
       "       'Height(in cm)', 'Weight(in kg)', 'TotalStats', 'BaseStats',\n",
       "       'Club Name', 'Wage(in Euro)', 'Release Clause', 'Club Position',\n",
       "       'Contract Until', 'Club Jersey Number', 'Joined On', 'On Loan',\n",
       "       'Preferred Foot', 'Weak Foot Rating', 'Skill Moves',\n",
       "       'International Reputation', 'National Team Name',\n",
       "       'National Team Image Link', 'National Team Position',\n",
       "       'National Team Jersey Number', 'Attacking Work Rate',\n",
       "       'Defensive Work Rate', 'Pace Total', 'Shooting Total', 'Passing Total',\n",
       "       'Dribbling Total', 'Defending Total', 'Physicality Total', 'Crossing',\n",
       "       'Finishing', 'Heading Accuracy', 'Short Passing', 'Volleys',\n",
       "       'Dribbling', 'Curve', 'Freekick Accuracy', 'LongPassing', 'BallControl',\n",
       "       'Acceleration', 'Sprint Speed', 'Agility', 'Reactions', 'Balance',\n",
       "       'Shot Power', 'Jumping', 'Stamina', 'Strength', 'Long Shots',\n",
       "       'Aggression', 'Interceptions', 'Positioning', 'Vision', 'Penalties',\n",
       "       'Composure', 'Marking', 'Standing Tackle', 'Sliding Tackle',\n",
       "       'Goalkeeper Diving', 'Goalkeeper Handling', ' GoalkeeperKicking',\n",
       "       'Goalkeeper Positioning', 'Goalkeeper Reflexes', 'ST Rating',\n",
       "       'LW Rating', 'LF Rating', 'CF Rating', 'RF Rating', 'RW Rating',\n",
       "       'CAM Rating', 'LM Rating', 'CM Rating', 'RM Rating', 'LWB Rating',\n",
       "       'CDM Rating', 'RWB Rating', 'LB Rating', 'CB Rating', 'RB Rating',\n",
       "       'GK Rating'],\n",
       "      dtype='object')"
      ]
     },
     "execution_count": 3,
     "metadata": {},
     "output_type": "execute_result"
    }
   ],
   "source": [
    "fifaData.columns"
   ]
  },
  {
   "cell_type": "code",
   "execution_count": 4,
   "metadata": {},
   "outputs": [
    {
     "data": {
      "text/plain": [
       "(18539, 89)"
      ]
     },
     "execution_count": 4,
     "metadata": {},
     "output_type": "execute_result"
    }
   ],
   "source": [
    "fifaData.shape"
   ]
  },
  {
   "cell_type": "markdown",
   "metadata": {},
   "source": [
    "# Transform the data"
   ]
  },
  {
   "cell_type": "code",
   "execution_count": 5,
   "metadata": {},
   "outputs": [],
   "source": [
    "labelEncoder = preprocessing.LabelEncoder()\n",
    "categoricalVariables = [\"Nationality\", 'Club Name', 'Best Position', 'Defensive Work Rate']\n",
    "fifaData[categoricalVariables] = fifaData[categoricalVariables].apply(labelEncoder.fit_transform)"
   ]
  },
  {
   "cell_type": "code",
   "execution_count": 6,
   "metadata": {},
   "outputs": [],
   "source": [
    "LABEL = \"Wage(in Euro)\"\n",
    "FEATURES = [\"Nationality\", 'Club Name', 'Best Position', 'Defensive Work Rate', 'Pace Total', 'Shooting Total', 'Passing Total',\n",
    "       'Dribbling Total', 'Defending Total', 'Physicality Total', 'Crossing',\n",
    "       'Finishing', 'Heading Accuracy', 'Short Passing', 'Volleys', \n",
    "       'Dribbling', 'Curve', 'Freekick Accuracy', 'LongPassing', 'BallControl',\n",
    "       'Acceleration', 'Sprint Speed', 'Agility', 'Reactions', 'Balance',\n",
    "       'Shot Power', 'Jumping', 'Stamina', 'Strength', 'Long Shots', \n",
    "       'Aggression', 'Interceptions', 'Positioning', 'Vision', 'Penalties',\n",
    "       'Composure', 'Marking', 'Standing Tackle', 'Sliding Tackle','Height(in cm)', 'Weight(in kg)', 'TotalStats', 'BaseStats']\n",
    "\n",
    "X = fifaData[FEATURES]\n",
    "ogX = fifaData[FEATURES +[\"Age\", \"BaseStats\", \"TotalStats\", \"Release Clause\", \"International Reputation\", \"Overall\", \"Potential\", \"ST Rating\",\"LW Rating\",\"LF Rating\",\"CF Rating\",\"RF Rating\",\"RW Rating\",\"CAM Rating\",\"LM Rating\",\"CM Rating\",\"RM Rating\",\"LWB Rating\",\"CDM Rating\",\"RWB Rating\",\"LB Rating\",\"CB Rating\",\"RB Rating\"]]\n",
    "Y = fifaData[LABEL]"
   ]
  },
  {
   "cell_type": "markdown",
   "metadata": {},
   "source": [
    "# Initial Model"
   ]
  },
  {
   "cell_type": "code",
   "execution_count": 8,
   "metadata": {},
   "outputs": [
    {
     "data": {
      "text/plain": [
       "LinearRegression()"
      ]
     },
     "execution_count": 8,
     "metadata": {},
     "output_type": "execute_result"
    }
   ],
   "source": [
    "# creating train and test sets\n",
    "X_train, X_test, y_train, y_test = train_test_split(\n",
    "    X, Y, test_size=0.3, random_state=101)\n",
    "\n",
    "#fit the  model\n",
    "model = LinearRegression()\n",
    "model.fit(X_train,y_train)"
   ]
  },
  {
   "cell_type": "code",
   "execution_count": 9,
   "metadata": {},
   "outputs": [
    {
     "name": "stdout",
     "output_type": "stream",
     "text": [
      "0.321553732048531\n"
     ]
    }
   ],
   "source": [
    "print(model.score(X_test, y_test))\n",
    "# will have some really poor performance"
   ]
  },
  {
   "cell_type": "markdown",
   "metadata": {},
   "source": [
    "# Feature Importance"
   ]
  },
  {
   "cell_type": "code",
   "execution_count": 10,
   "metadata": {},
   "outputs": [
    {
     "name": "stdout",
     "output_type": "stream",
     "text": [
      "Feature: 0, Score: -4.77919\n",
      "Feature: 1, Score: 0.36235\n",
      "Feature: 2, Score: -46.59814\n",
      "Feature: 3, Score: -439.86193\n",
      "Feature: 4, Score: 169.86216\n",
      "Feature: 5, Score: 434.60787\n",
      "Feature: 6, Score: -151.11899\n",
      "Feature: 7, Score: 109.19559\n",
      "Feature: 8, Score: -58.76141\n",
      "Feature: 9, Score: -324.72992\n",
      "Feature: 10, Score: 135.15913\n",
      "Feature: 11, Score: -157.56849\n",
      "Feature: 12, Score: 191.20154\n",
      "Feature: 13, Score: 194.44247\n",
      "Feature: 14, Score: 149.03608\n",
      "Feature: 15, Score: 60.99880\n",
      "Feature: 16, Score: 147.90436\n",
      "Feature: 17, Score: 50.84898\n",
      "Feature: 18, Score: 71.32766\n",
      "Feature: 19, Score: 197.38133\n",
      "Feature: 20, Score: -34.09869\n",
      "Feature: 21, Score: 40.45854\n",
      "Feature: 22, Score: -26.01506\n",
      "Feature: 23, Score: 760.47373\n",
      "Feature: 24, Score: 123.00162\n",
      "Feature: 25, Score: -21.84398\n",
      "Feature: 26, Score: 120.86671\n",
      "Feature: 27, Score: 23.23688\n",
      "Feature: 28, Score: 73.82748\n",
      "Feature: 29, Score: -160.32125\n",
      "Feature: 30, Score: 135.12009\n",
      "Feature: 31, Score: 15.12443\n",
      "Feature: 32, Score: -20.78296\n",
      "Feature: 33, Score: 120.39055\n",
      "Feature: 34, Score: 62.88294\n",
      "Feature: 35, Score: 151.88540\n",
      "Feature: 36, Score: 57.35587\n",
      "Feature: 37, Score: 191.52340\n",
      "Feature: 38, Score: 25.68926\n",
      "Feature: 39, Score: 262.15650\n",
      "Feature: 40, Score: 11.94715\n",
      "Feature: 41, Score: -86.53250\n",
      "Feature: 42, Score: 179.05530\n"
     ]
    },
    {
     "data": {
      "image/png": "[encoded data removed]",
      "text/plain": [
       "<Figure size 640x480 with 1 Axes>"
      ]
     },
     "metadata": {},
     "output_type": "display_data"
    }
   ],
   "source": [
    "# feature importance\n",
    "importance = model.coef_\n",
    "thresholdColumns = []\n",
    "# # summarize feature importance\n",
    "for i,v in enumerate(importance):\n",
    "\tprint('Feature: %0d, Score: %.5f' % (i,v))\n",
    "\tif v >=100:\n",
    "\t\tthresholdColumns.append(i)\n",
    "# plot feature importance\n",
    "pyplot.title(\"A graph of Features and their coefficients \")\n",
    "pyplot.bar([x for x in range(len(importance))], importance)\n",
    "pyplot.show()"
   ]
  },
  {
   "cell_type": "code",
   "execution_count": 11,
   "metadata": {},
   "outputs": [
    {
     "data": {
      "text/plain": [
       "[4, 5, 7, 10, 12, 13, 14, 16, 19, 23, 24, 26, 30, 33, 35, 37, 39, 42]"
      ]
     },
     "execution_count": 11,
     "metadata": {},
     "output_type": "execute_result"
    }
   ],
   "source": [
    "thresholdColumns"
   ]
  },
  {
   "cell_type": "markdown",
   "metadata": {},
   "source": [
    "# Second Regression Model"
   ]
  },
  {
   "cell_type": "code",
   "execution_count": 12,
   "metadata": {},
   "outputs": [],
   "source": [
    "cols = X.columns"
   ]
  },
  {
   "cell_type": "code",
   "execution_count": 13,
   "metadata": {},
   "outputs": [
    {
     "name": "stdout",
     "output_type": "stream",
     "text": [
      "[4, 5, 7, 10, 12, 13, 14, 16, 19, 23, 24, 26, 30, 33, 35, 37, 39, 42]\n"
     ]
    }
   ],
   "source": [
    "thresholdColumns\n",
    "print(thresholdColumns)\n",
    "# get column names for each threshold.\n",
    "# change in place since thresholdColumns returns index values for the main datasets columns(cols)\n",
    "for i in range(len(thresholdColumns)):\n",
    "    thresholdColumns[i] = cols[thresholdColumns[i]]"
   ]
  },
  {
   "cell_type": "code",
   "execution_count": 15,
   "metadata": {},
   "outputs": [],
   "source": [
    "LABEL = \"Wage(in Euro)\"\n",
    "FEATURES = thresholdColumns #will use less columns here because of the threshold value for columns\n",
    "\n",
    "X = fifaData[FEATURES]\n",
    "Y = fifaData[LABEL]"
   ]
  },
  {
   "cell_type": "code",
   "execution_count": 16,
   "metadata": {},
   "outputs": [
    {
     "data": {
      "text/plain": [
       "LinearRegression()"
      ]
     },
     "execution_count": 16,
     "metadata": {},
     "output_type": "execute_result"
    }
   ],
   "source": [
    "# creating train and test sets\n",
    "X_train, X_test, y_train, y_test = train_test_split(\n",
    "    X, Y, test_size=0.3, random_state=101)\n",
    "\n",
    "#INITIALIZE AND FIT THE MODEL\n",
    "model = LinearRegression()\n",
    "model.fit(X_train,y_train)"
   ]
  },
  {
   "cell_type": "code",
   "execution_count": 17,
   "metadata": {},
   "outputs": [
    {
     "data": {
      "text/plain": [
       "0.3078603091103481"
      ]
     },
     "execution_count": 17,
     "metadata": {},
     "output_type": "execute_result"
    }
   ],
   "source": [
    "model.score(X_test, y_test) #r^2 score"
   ]
  },
  {
   "cell_type": "markdown",
   "metadata": {},
   "source": [
    "# Model with added features (best Performing)"
   ]
  },
  {
   "cell_type": "code",
   "execution_count": 14,
   "metadata": {},
   "outputs": [],
   "source": [
    "FEATURES = FEATURES +[\"Age\", \"BaseStats\", \"TotalStats\", \"Release Clause\", \"International Reputation\", \"Overall\", \"Potential\", \"ST Rating\",\"LW Rating\",\"LF Rating\",\"CF Rating\",\"RF Rating\",\"RW Rating\",\"CAM Rating\",\"LM Rating\",\"CM Rating\",\"RM Rating\",\"LWB Rating\",\"CDM Rating\",\"RWB Rating\",\"LB Rating\",\"CB Rating\",\"RB Rating\"]\n",
    "X = fifaData[FEATURES]\n",
    "Y = fifaData[LABEL]"
   ]
  },
  {
   "cell_type": "code",
   "execution_count": 15,
   "metadata": {},
   "outputs": [
    {
     "data": {
      "text/plain": [
       "LinearRegression()"
      ]
     },
     "execution_count": 15,
     "metadata": {},
     "output_type": "execute_result"
    }
   ],
   "source": [
    "# creating train and test sets\n",
    "X_train, X_test, y_train, y_test = train_test_split(\n",
    "    ogX, Y, test_size=0.3, random_state=101)\n",
    "    \n",
    "model = LinearRegression()\n",
    "model.fit(X_train,y_train)"
   ]
  },
  {
   "cell_type": "code",
   "execution_count": 16,
   "metadata": {},
   "outputs": [
    {
     "name": "stdout",
     "output_type": "stream",
     "text": [
      "0.7238380545036831\n"
     ]
    }
   ],
   "source": [
    "print(model.score(X_test, y_test))"
   ]
  },
  {
   "cell_type": "code",
   "execution_count": null,
   "metadata": {},
   "outputs": [],
   "source": []
  }
 ],
 "metadata": {
  "kernelspec": {
   "display_name": "Python 3.7.9 ('.venv': venv)",
   "language": "python",
   "name": "python3"
  },
  "language_info": {
   "codemirror_mode": {
    "name": "ipython",
    "version": 3
   },
   "file_extension": ".py",
   "mimetype": "text/x-python",
   "name": "python",
   "nbconvert_exporter": "python",
   "pygments_lexer": "ipython3",
   "version": "3.7.9"
  },
  "orig_nbformat": 4,
  "vscode": {
   "interpreter": {
    "hash": "f1ea5b014208b59f79d2fa6e7e754eac60a914d78c45ad9fed3fd6e2515cb290"
   }
  }
 },
 "nbformat": 4,
 "nbformat_minor": 2
}
